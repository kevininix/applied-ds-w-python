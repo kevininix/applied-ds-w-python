{
 "cells": [
  {
   "cell_type": "code",
   "execution_count": 72,
   "metadata": {},
   "outputs": [],
   "source": [
    "%matplotlib inline\n",
    "import pandas as pd\n",
    "import numpy as np\n",
    "import matplotlib as mpl\n",
    "import matplotlib.pyplot as plt\n",
    "import matplotlib.patches as patches\n",
    "from matplotlib.cm import ScalarMappable"
   ]
  },
  {
   "cell_type": "code",
   "execution_count": null,
   "metadata": {},
   "outputs": [],
   "source": [
    "np.random.seed(12345)\n",
    "\n",
    "df = pd.DataFrame([np.random.normal(32000,200000,3650), \n",
    "                   np.random.normal(43000,100000,3650), \n",
    "                   np.random.normal(43500,140000,3650), \n",
    "                   np.random.normal(48000,70000,3650)], \n",
    "                  index=[1992,1993,1994,1995])\n",
    "df"
   ]
  },
  {
   "cell_type": "code",
   "execution_count": 137,
   "metadata": {},
   "outputs": [
    {
     "data": {
      "text/plain": [
       "Text(0.5, 1.0, 'Bar chart of means with margin of error')"
      ]
     },
     "execution_count": 137,
     "metadata": {},
     "output_type": "execute_result"
    },
    {
     "data": {
      "image/png": "[encoded data removed]",
      "text/plain": [
       "<Figure size 720x720 with 2 Axes>"
      ]
     },
     "metadata": {
      "needs_background": "light"
     },
     "output_type": "display_data"
    }
   ],
   "source": [
    "# Transpose dataframe \n",
    "#df = df.T \n",
    "\n",
    "# get height(means) and x-labels\n",
    "x = [str(i) for i in df.columns.to_list()]\n",
    "y = np.array([df[i].describe().loc['mean'] for i in df.columns])\n",
    "\n",
    "# calculate standard error μ/sqrt(n)\n",
    "std = [df[i].describe()['std'] for i in df.columns.to_list()]\n",
    "count = [df[i].describe()['count'] for i in df.columns.to_list()]\n",
    "se = [std[i]/np.sqrt(count[i]) for i in range(len(std))]\n",
    "# calculate margin of error z*(μ/sqrt(n))\n",
    "me = [1.96*se[i] for i in range(len(se))]\n",
    "\n",
    "# create plot\n",
    "fig, ax =  plt.subplots(figsize = (10,10))\n",
    "\n",
    "# plot bar chart\n",
    "rects = ax.bar(x, y, yerr = me, capsize = 10, color = colors)\n",
    "# plot dotted rectangle\n",
    "r = patches.Rectangle((0.6, 0), 0.8, y[1], lw = 2, ls = '--', edgecolor ='black',\n",
    "facecolor='none')\n",
    "ax.add_patch(r)\n",
    "\n",
    "# color range for the colorbar\n",
    "cmap = mpl.colors.ListedColormap(['#053061', '#2166ac','#4393c3', '#92c5de',\n",
    "'#d1e5f0', '#f7f7f7', '#fddbc7', '#f4a582', '#d6604d', '#b2182b', '#67001f'])\n",
    "# color for the bar chart\n",
    "colors = ['#053061', '#f7f7f7', '#92c5de', '#67001f']\n",
    "# color for the boundaries of the colobar\n",
    "cmap.set_over('#67001f')\n",
    "cmap.set_under('#053061')\n",
    "# values of the ticks of the colorbar\n",
    "bounds = [0, 0.09, 0.18, 0.27, 0.36, 0.45, 0.55, 0.64, 0.73, \n",
    "0.82, 0.91, 1]\n",
    "# apply the boundaries to the colors\n",
    "norm = mpl.colors.BoundaryNorm(bounds, cmap.N)\n",
    "#apply the colormap and norm\n",
    "sm = ScalarMappable(cmap=cmap, norm= norm)\n",
    "sm.set_array([])\n",
    "# plot the colorbar\n",
    "cbar = plt.colorbar(sm, orientation='horizontal', shrink = 0.7, anchor = (1, 0),\n",
    "pad = 0.07)\n",
    "cbar.set_label('Certainity of being definitely below (0) or definitely above (1) 1993')\n",
    "\n",
    "# get rid of spines\n",
    "borders = ['top', 'right', 'bottom', 'left']\n",
    "ax.spines[borders].set_visible(False)\n",
    "\n",
    "# title\n",
    "plt.title('Bar chart of means with margin of error', \n",
    "fontsize = 12)"
   ]
  },
  {
   "cell_type": "code",
   "execution_count": null,
   "metadata": {},
   "outputs": [],
   "source": []
  }
 ],
 "metadata": {
  "kernelspec": {
   "display_name": "Python 3.9.7 ('base')",
   "language": "python",
   "name": "python3"
  },
  "language_info": {
   "codemirror_mode": {
    "name": "ipython",
    "version": 3
   },
   "file_extension": ".py",
   "mimetype": "text/x-python",
   "name": "python",
   "nbconvert_exporter": "python",
   "pygments_lexer": "ipython3",
   "version": "3.9.7"
  },
  "orig_nbformat": 4,
  "vscode": {
   "interpreter": {
    "hash": "6defd577cd85e3649e86c46a537635b7104b081260a238509c81cac8b534171b"
   }
  }
 },
 "nbformat": 4,
 "nbformat_minor": 2
}
