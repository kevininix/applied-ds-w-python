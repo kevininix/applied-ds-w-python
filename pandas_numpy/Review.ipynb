{
 "cells": [
  {
   "cell_type": "markdown",
   "id": "f3681bcc",
   "metadata": {},
   "source": [
    "### Functions"
   ]
  },
  {
   "cell_type": "code",
   "execution_count": 1,
   "id": "96f9ae21",
   "metadata": {},
   "outputs": [
    {
     "data": {
      "text/plain": [
       "3"
      ]
     },
     "execution_count": 1,
     "metadata": {},
     "output_type": "execute_result"
    }
   ],
   "source": [
    "x = 1\n",
    "y = 2\n",
    "x + y"
   ]
  },
  {
   "cell_type": "code",
   "execution_count": 2,
   "id": "ba91721a",
   "metadata": {},
   "outputs": [
    {
     "data": {
      "text/plain": [
       "1"
      ]
     },
     "execution_count": 2,
     "metadata": {},
     "output_type": "execute_result"
    }
   ],
   "source": [
    "x"
   ]
  },
  {
   "cell_type": "code",
   "execution_count": 94,
   "id": "86590cb5",
   "metadata": {},
   "outputs": [
    {
     "data": {
      "text/plain": [
       "8"
      ]
     },
     "execution_count": 94,
     "metadata": {},
     "output_type": "execute_result"
    }
   ],
   "source": [
    "def my_sum(x,y):\n",
    "    return x + y\n",
    "\n",
    "my_sum(3,5)"
   ]
  },
  {
   "cell_type": "code",
   "execution_count": 7,
   "id": "2383371d",
   "metadata": {},
   "outputs": [
    {
     "name": "stdout",
     "output_type": "stream",
     "text": [
      "3\n",
      "6\n"
     ]
    }
   ],
   "source": [
    "def add_numbers(x, y, z = None):\n",
    "    if z == None:\n",
    "        return x + y \n",
    "    else:\n",
    "        return x + y + z\n",
    "\n",
    "print(add_numbers(1,2))\n",
    "print(add_numbers(1,2,3))"
   ]
  },
  {
   "cell_type": "code",
   "execution_count": 9,
   "id": "a253e957",
   "metadata": {},
   "outputs": [
    {
     "name": "stdout",
     "output_type": "stream",
     "text": [
      "Flag is true!\n"
     ]
    },
    {
     "data": {
      "text/plain": [
       "6"
      ]
     },
     "execution_count": 9,
     "metadata": {},
     "output_type": "execute_result"
    }
   ],
   "source": [
    "def add(x, y, z = None, flag = False):\n",
    "    if flag == True:\n",
    "        print(\"Flag is true!\")\n",
    "    if z == None:\n",
    "        return x + y\n",
    "    else:\n",
    "        return x + y + z\n",
    "\n",
    "add(1,2,3, flag = True)"
   ]
  },
  {
   "cell_type": "markdown",
   "id": "2a971889",
   "metadata": {},
   "source": [
    "### Types and sequences"
   ]
  },
  {
   "cell_type": "code",
   "execution_count": 10,
   "id": "66d55106",
   "metadata": {},
   "outputs": [
    {
     "data": {
      "text/plain": [
       "str"
      ]
     },
     "execution_count": 10,
     "metadata": {},
     "output_type": "execute_result"
    }
   ],
   "source": [
    "type('this is a string')"
   ]
  },
  {
   "cell_type": "code",
   "execution_count": 11,
   "id": "123b0bd6",
   "metadata": {},
   "outputs": [
    {
     "data": {
      "text/plain": [
       "int"
      ]
     },
     "execution_count": 11,
     "metadata": {},
     "output_type": "execute_result"
    }
   ],
   "source": [
    "type(1)"
   ]
  },
  {
   "cell_type": "code",
   "execution_count": 12,
   "id": "492bb04c",
   "metadata": {},
   "outputs": [
    {
     "data": {
      "text/plain": [
       "float"
      ]
     },
     "execution_count": 12,
     "metadata": {},
     "output_type": "execute_result"
    }
   ],
   "source": [
    "type(1.5)"
   ]
  },
  {
   "cell_type": "code",
   "execution_count": 13,
   "id": "8400df83",
   "metadata": {},
   "outputs": [
    {
     "data": {
      "text/plain": [
       "NoneType"
      ]
     },
     "execution_count": 13,
     "metadata": {},
     "output_type": "execute_result"
    }
   ],
   "source": [
    "type(None)"
   ]
  },
  {
   "cell_type": "code",
   "execution_count": 15,
   "id": "c3d50eb3",
   "metadata": {},
   "outputs": [
    {
     "data": {
      "text/plain": [
       "function"
      ]
     },
     "execution_count": 15,
     "metadata": {},
     "output_type": "execute_result"
    }
   ],
   "source": [
    "type(add_numbers)"
   ]
  },
  {
   "cell_type": "code",
   "execution_count": 16,
   "id": "892fc483",
   "metadata": {},
   "outputs": [
    {
     "data": {
      "text/plain": [
       "tuple"
      ]
     },
     "execution_count": 16,
     "metadata": {},
     "output_type": "execute_result"
    }
   ],
   "source": [
    "# A tuple is a sequence of variables which is \n",
    "# itself inmutable, i.e it has items in an ordering,\n",
    "# but cannot be changed once created\n",
    "x = (1, 'a', 2, 'b')\n",
    "type(x)"
   ]
  },
  {
   "cell_type": "code",
   "execution_count": 17,
   "id": "e1fd822f",
   "metadata": {},
   "outputs": [
    {
     "data": {
      "text/plain": [
       "list"
      ]
     },
     "execution_count": 17,
     "metadata": {},
     "output_type": "execute_result"
    }
   ],
   "source": [
    "# Lists are like tuples but mutable\n",
    "x = [1, 'a', 2, 'b']\n",
    "type(x)"
   ]
  },
  {
   "cell_type": "code",
   "execution_count": 18,
   "id": "17279d91",
   "metadata": {},
   "outputs": [
    {
     "name": "stdout",
     "output_type": "stream",
     "text": [
      "[1, 'a', 2, 'b', 3.3]\n"
     ]
    }
   ],
   "source": [
    "# You can change the contends through various methods\n",
    "\n",
    "# e.g appends adds items to the end\n",
    "x.append(3.3)\n",
    "print(x)"
   ]
  },
  {
   "cell_type": "code",
   "execution_count": 19,
   "id": "969a9031",
   "metadata": {},
   "outputs": [
    {
     "name": "stdout",
     "output_type": "stream",
     "text": [
      "1\n",
      "a\n",
      "2\n",
      "b\n",
      "3.3\n"
     ]
    }
   ],
   "source": [
    "# To look for each item in a list use a for statement\n",
    "for item in x:\n",
    "    print(item)"
   ]
  },
  {
   "cell_type": "code",
   "execution_count": 24,
   "id": "9009ec3c",
   "metadata": {},
   "outputs": [
    {
     "name": "stdout",
     "output_type": "stream",
     "text": [
      "1\n",
      "a\n",
      "2\n",
      "b\n",
      "3.3\n"
     ]
    }
   ],
   "source": [
    "# You also isolate values using indexing\n",
    "# the len() functions returns the length of the list\n",
    "i = 0\n",
    "\n",
    "while i != len(x):\n",
    "    print(x[i])\n",
    "    i += 1"
   ]
  },
  {
   "cell_type": "code",
   "execution_count": 25,
   "id": "ce8d4593",
   "metadata": {},
   "outputs": [
    {
     "data": {
      "text/plain": [
       "[1, 2, 3, 4]"
      ]
     },
     "execution_count": 25,
     "metadata": {},
     "output_type": "execute_result"
    }
   ],
   "source": [
    "# To concatenate lists use + operator\n",
    "[1, 2] + [3, 4]"
   ]
  },
  {
   "cell_type": "code",
   "execution_count": 26,
   "id": "db6733a6",
   "metadata": {},
   "outputs": [
    {
     "data": {
      "text/plain": [
       "[1, 1, 1]"
      ]
     },
     "execution_count": 26,
     "metadata": {},
     "output_type": "execute_result"
    }
   ],
   "source": [
    "# To repeat values of list use * operator\n",
    "[1] * 3"
   ]
  },
  {
   "cell_type": "code",
   "execution_count": 27,
   "id": "2469014f",
   "metadata": {},
   "outputs": [
    {
     "data": {
      "text/plain": [
       "True"
      ]
     },
     "execution_count": 27,
     "metadata": {},
     "output_type": "execute_result"
    }
   ],
   "source": [
    "# To look a set membership use the 'in' operator\n",
    "1 in [1, 2, 3]"
   ]
  },
  {
   "cell_type": "code",
   "execution_count": 40,
   "id": "80fcef3f",
   "metadata": {},
   "outputs": [
    {
     "name": "stdout",
     "output_type": "stream",
     "text": [
      "This \n",
      "string\n"
     ]
    }
   ],
   "source": [
    "# strings are just lists\n",
    "# You can use indexing to do slicing\n",
    "x = 'This is a string'\n",
    "print(x[:5])\n",
    "print(x[-6:])"
   ]
  },
  {
   "cell_type": "code",
   "execution_count": 44,
   "id": "bbaff8cc",
   "metadata": {},
   "outputs": [
    {
     "name": "stdout",
     "output_type": "stream",
     "text": [
      "Kevin Picado\n",
      "True\n"
     ]
    }
   ],
   "source": [
    "# you can do operations on strings like lists\n",
    "firstname = 'Kevin'\n",
    "lastname = 'Picado'\n",
    "\n",
    "print(firstname + ' ' + lastname)\n",
    "print('Picado' in lastname)"
   ]
  },
  {
   "cell_type": "code",
   "execution_count": 45,
   "id": "ea4ed25a",
   "metadata": {},
   "outputs": [
    {
     "name": "stdout",
     "output_type": "stream",
     "text": [
      "Sara\n"
     ]
    }
   ],
   "source": [
    "# You can split strings based on a pattern\n",
    "firstname = 'Julia Sara Rebecca'.split(' ')[1]\n",
    "print(firstname)"
   ]
  },
  {
   "cell_type": "code",
   "execution_count": 54,
   "id": "5bfff78e",
   "metadata": {},
   "outputs": [
    {
     "data": {
      "text/plain": [
       "'sara.milazzo.r@gmail.com'"
      ]
     },
     "execution_count": 54,
     "metadata": {},
     "output_type": "execute_result"
    }
   ],
   "source": [
    "# Dictionaries\n",
    "x = {'Sara': 'sara.milazzo.r@gmail.com', 'Rebecca': 'beccaboo422@gmail.com', 'Julia': 'julia.piliczewska@gmail.com'}\n",
    "x['Sara']"
   ]
  },
  {
   "cell_type": "code",
   "execution_count": 56,
   "id": "15eab1c1",
   "metadata": {},
   "outputs": [],
   "source": [
    "x['Sara'] = None\n",
    "x['Sara']"
   ]
  },
  {
   "cell_type": "code",
   "execution_count": 57,
   "id": "7acc8189",
   "metadata": {},
   "outputs": [
    {
     "name": "stdout",
     "output_type": "stream",
     "text": [
      "None\n",
      "beccaboo422@gmail.com\n",
      "julia.piliczewska@gmail.com\n"
     ]
    }
   ],
   "source": [
    "for name in x:\n",
    "    print(x[name])"
   ]
  },
  {
   "cell_type": "code",
   "execution_count": 62,
   "id": "8be03cf4",
   "metadata": {},
   "outputs": [
    {
     "name": "stdout",
     "output_type": "stream",
     "text": [
      "None\n",
      "beccaboo422@gmail.com\n",
      "julia.piliczewska@gmail.com\n"
     ]
    }
   ],
   "source": [
    "for email in x.values():\n",
    "    print(email)"
   ]
  },
  {
   "cell_type": "code",
   "execution_count": 60,
   "id": "5de18eef",
   "metadata": {},
   "outputs": [
    {
     "name": "stdout",
     "output_type": "stream",
     "text": [
      "Sara None\n",
      "Rebecca beccaboo422@gmail.com\n",
      "Julia julia.piliczewska@gmail.com\n"
     ]
    }
   ],
   "source": [
    "for name, email in x.items():\n",
    "    print(name, email)"
   ]
  },
  {
   "cell_type": "code",
   "execution_count": 64,
   "id": "c32f5325",
   "metadata": {},
   "outputs": [],
   "source": [
    "# Unpacking\n",
    "x = ('Sara', 'Milazzo', 'sara.milazzo.r@gmail.com')\n",
    "\n",
    "fname, lname, email = x"
   ]
  },
  {
   "cell_type": "code",
   "execution_count": 65,
   "id": "d06ecdae",
   "metadata": {},
   "outputs": [
    {
     "data": {
      "text/plain": [
       "'Sara'"
      ]
     },
     "execution_count": 65,
     "metadata": {},
     "output_type": "execute_result"
    }
   ],
   "source": [
    "fname"
   ]
  },
  {
   "cell_type": "code",
   "execution_count": 66,
   "id": "f2c03a14",
   "metadata": {},
   "outputs": [
    {
     "data": {
      "text/plain": [
       "'Milazzo'"
      ]
     },
     "execution_count": 66,
     "metadata": {},
     "output_type": "execute_result"
    }
   ],
   "source": [
    "lname"
   ]
  },
  {
   "cell_type": "markdown",
   "id": "a15b57e9",
   "metadata": {},
   "source": [
    "### More on strings"
   ]
  },
  {
   "cell_type": "code",
   "execution_count": 67,
   "id": "faa0e816",
   "metadata": {},
   "outputs": [
    {
     "ename": "TypeError",
     "evalue": "can only concatenate str (not \"int\") to str",
     "output_type": "error",
     "traceback": [
      "\u001b[1;31m---------------------------------------------------------------------------\u001b[0m",
      "\u001b[1;31mTypeError\u001b[0m                                 Traceback (most recent call last)",
      "\u001b[1;32m~\\AppData\\Local\\Temp/ipykernel_9796/2842436550.py\u001b[0m in \u001b[0;36m<module>\u001b[1;34m\u001b[0m\n\u001b[1;32m----> 1\u001b[1;33m \u001b[0mprint\u001b[0m\u001b[1;33m(\u001b[0m\u001b[1;34m\"Sara\"\u001b[0m \u001b[1;33m+\u001b[0m \u001b[1;36m2\u001b[0m\u001b[1;33m)\u001b[0m\u001b[1;33m\u001b[0m\u001b[1;33m\u001b[0m\u001b[0m\n\u001b[0m",
      "\u001b[1;31mTypeError\u001b[0m: can only concatenate str (not \"int\") to str"
     ]
    }
   ],
   "source": [
    "print(\"Sara\" + 2)"
   ]
  },
  {
   "cell_type": "code",
   "execution_count": 68,
   "id": "bd8d1b5c",
   "metadata": {},
   "outputs": [
    {
     "name": "stdout",
     "output_type": "stream",
     "text": [
      "Sara2\n"
     ]
    }
   ],
   "source": [
    "print('Sara' + str(2))"
   ]
  },
  {
   "cell_type": "code",
   "execution_count": 75,
   "id": "83e17496",
   "metadata": {},
   "outputs": [
    {
     "name": "stdout",
     "output_type": "stream",
     "text": [
      "Sara bought 4 item(s) at a price of $3.25 each for a total of $13.0\n"
     ]
    }
   ],
   "source": [
    "sale_record = {'price': 3.25,\n",
    "               'num_items': 4,\n",
    "               'person': 'Sara'}\n",
    "\n",
    "sale_statement = '{} bought {} item(s) at a price of ${} each for a total of ${}'\n",
    "\n",
    "print(sale_statement.format(sale_record['person'],\n",
    "                           sale_record['num_items'],\n",
    "                           sale_record['price'],\n",
    "                           sale_record['price'] * sale_record['num_items']))"
   ]
  },
  {
   "cell_type": "markdown",
   "id": "f7dd5c56",
   "metadata": {},
   "source": [
    "### Demonstration: reading and writing csv files"
   ]
  },
  {
   "cell_type": "code",
   "execution_count": 1,
   "id": "60b61fa9",
   "metadata": {},
   "outputs": [
    {
     "data": {
      "text/plain": [
       "[{'': '1',\n",
       "  'manufacturer': 'audi',\n",
       "  'model': 'a4',\n",
       "  'displ': '1.8',\n",
       "  'year': '1999',\n",
       "  'cyl': '4',\n",
       "  'trans': 'auto(l5)',\n",
       "  'drv': 'f',\n",
       "  'cty': '18',\n",
       "  'hwy': '29',\n",
       "  'fl': 'p',\n",
       "  'class': 'compact'},\n",
       " {'': '2',\n",
       "  'manufacturer': 'audi',\n",
       "  'model': 'a4',\n",
       "  'displ': '1.8',\n",
       "  'year': '1999',\n",
       "  'cyl': '4',\n",
       "  'trans': 'manual(m5)',\n",
       "  'drv': 'f',\n",
       "  'cty': '21',\n",
       "  'hwy': '29',\n",
       "  'fl': 'p',\n",
       "  'class': 'compact'},\n",
       " {'': '3',\n",
       "  'manufacturer': 'audi',\n",
       "  'model': 'a4',\n",
       "  'displ': '2',\n",
       "  'year': '2008',\n",
       "  'cyl': '4',\n",
       "  'trans': 'manual(m6)',\n",
       "  'drv': 'f',\n",
       "  'cty': '20',\n",
       "  'hwy': '31',\n",
       "  'fl': 'p',\n",
       "  'class': 'compact'}]"
      ]
     },
     "execution_count": 1,
     "metadata": {},
     "output_type": "execute_result"
    }
   ],
   "source": [
    "import csv\n",
    "from IPython import get_ipython\n",
    "get_ipython().run_line_magic('precision', 2)\n",
    "\n",
    "# Convert content into a list of dictionaries\n",
    "with open('mpg.csv') as csvfiles:\n",
    "    mpg = list(csv.DictReader(csvfiles))\n",
    "\n",
    "mpg[:3]\n"
   ]
  },
  {
   "cell_type": "code",
   "execution_count": 2,
   "id": "265bd4b3",
   "metadata": {},
   "outputs": [
    {
     "data": {
      "text/plain": [
       "234"
      ]
     },
     "execution_count": 2,
     "metadata": {},
     "output_type": "execute_result"
    }
   ],
   "source": [
    "# Number of dictionaries\n",
    "len(mpg)"
   ]
  },
  {
   "cell_type": "code",
   "execution_count": 3,
   "id": "b17be84b",
   "metadata": {},
   "outputs": [
    {
     "data": {
      "text/plain": [
       "dict_keys(['', 'manufacturer', 'model', 'displ', 'year', 'cyl', 'trans', 'drv', 'cty', 'hwy', 'fl', 'class'])"
      ]
     },
     "execution_count": 3,
     "metadata": {},
     "output_type": "execute_result"
    }
   ],
   "source": [
    "#Name of the columns\n",
    "mpg[0].keys()"
   ]
  },
  {
   "cell_type": "code",
   "execution_count": 4,
   "id": "258159c4",
   "metadata": {},
   "outputs": [
    {
     "data": {
      "text/plain": [
       "16.86"
      ]
     },
     "execution_count": 4,
     "metadata": {},
     "output_type": "execute_result"
    }
   ],
   "source": [
    "import builtins\n",
    "#Average city mpg across all the cars in the .csv file\n",
    "builtins.sum(float(d['cty']) for d in mpg) / len(mpg)\n"
   ]
  },
  {
   "cell_type": "code",
   "execution_count": 5,
   "id": "136fea80",
   "metadata": {},
   "outputs": [
    {
     "data": {
      "text/plain": [
       "23.44"
      ]
     },
     "execution_count": 5,
     "metadata": {},
     "output_type": "execute_result"
    }
   ],
   "source": [
    "#Average highway mpg across all the cars in the .csv file\n",
    "builtins.sum(float(d['hwy']) for d in mpg) / len(mpg)"
   ]
  },
  {
   "cell_type": "code",
   "execution_count": 6,
   "id": "57106d79",
   "metadata": {},
   "outputs": [
    {
     "data": {
      "text/plain": [
       "{'4', '5', '6', '8'}"
      ]
     },
     "execution_count": 6,
     "metadata": {},
     "output_type": "execute_result"
    }
   ],
   "source": [
    "# Average city mpg given number of cyllinders of car\n",
    "\n",
    "# Creating a set of the values of 'cyl' will give us the\n",
    "# unique levels for the number of cyllinders \n",
    "cyllinders = set(d['cyl'] for d in mpg)\n",
    "cyllinders"
   ]
  },
  {
   "cell_type": "code",
   "execution_count": 10,
   "id": "8c4eb365",
   "metadata": {},
   "outputs": [
    {
     "data": {
      "text/plain": [
       "[('4', 21.01), ('5', 20.50), ('6', 16.22), ('8', 12.57)]"
      ]
     },
     "execution_count": 10,
     "metadata": {},
     "output_type": "execute_result"
    }
   ],
   "source": [
    "#Empty list to store calculations\n",
    "calc_storage = []\n",
    "\n",
    "#iterate over cyllinder levels\n",
    "for c in cyllinders:\n",
    "    sum_mpg = 0\n",
    "    cyl_type_count = 0\n",
    "    for d in mpg:\n",
    "        if d['cyl'] == c:\n",
    "            sum_mpg += float(d['cty'])\n",
    "            cyl_type_count += 1\n",
    "    calc_storage.append((c, sum_mpg / cyl_type_count))\n",
    "\n",
    "#sort from lower to highest level of cyllinders\n",
    "calc_storage.sort(key = lambda x: x[0])\n",
    "calc_storage"
   ]
  },
  {
   "cell_type": "code",
   "execution_count": 11,
   "id": "8983a375",
   "metadata": {},
   "outputs": [
    {
     "data": {
      "text/plain": [
       "{'2seater', 'compact', 'midsize', 'minivan', 'pickup', 'subcompact', 'suv'}"
      ]
     },
     "execution_count": 11,
     "metadata": {},
     "output_type": "execute_result"
    }
   ],
   "source": [
    "# Average highway mpg for a given vehicle class\n",
    "vehicle_class = set(d['class'] for d in mpg)\n",
    "vehicle_class"
   ]
  },
  {
   "cell_type": "code",
   "execution_count": 12,
   "id": "54393ddb",
   "metadata": {},
   "outputs": [
    {
     "data": {
      "text/plain": [
       "[('2seater', 24.80),\n",
       " ('compact', 28.30),\n",
       " ('midsize', 27.29),\n",
       " ('minivan', 22.36),\n",
       " ('pickup', 16.88),\n",
       " ('subcompact', 28.14),\n",
       " ('suv', 18.13)]"
      ]
     },
     "execution_count": 12,
     "metadata": {},
     "output_type": "execute_result"
    }
   ],
   "source": [
    "HwayMpg_by_class = []\n",
    "\n",
    "for v in vehicle_class:\n",
    "    sum_mpg = 0\n",
    "    class_type_count = 0\n",
    "    for d in mpg:\n",
    "        if d['class'] == v:\n",
    "            sum_mpg += float(d['hwy'])\n",
    "            class_type_count += 1\n",
    "    HwayMpg_by_class.append((v, sum_mpg / class_type_count))\n",
    "\n",
    "HwayMpg_by_class.sort(key = lambda x: x[0])\n",
    "HwayMpg_by_class"
   ]
  },
  {
   "cell_type": "code",
   "execution_count": null,
   "id": "cdfd6378",
   "metadata": {},
   "outputs": [],
   "source": []
  }
 ],
 "metadata": {
  "kernelspec": {
   "display_name": "Python 3 (ipykernel)",
   "language": "python",
   "name": "python3"
  },
  "language_info": {
   "codemirror_mode": {
    "name": "ipython",
    "version": 3
   },
   "file_extension": ".py",
   "mimetype": "text/x-python",
   "name": "python",
   "nbconvert_exporter": "python",
   "pygments_lexer": "ipython3",
   "version": "3.9.7"
  }
 },
 "nbformat": 4,
 "nbformat_minor": 5
}
