{
 "cells": [
  {
   "cell_type": "code",
   "execution_count": 1,
   "metadata": {},
   "outputs": [],
   "source": [
    "# Import the regular expressions library re\n",
    "import re"
   ]
  },
  {
   "cell_type": "code",
   "execution_count": 2,
   "metadata": {},
   "outputs": [
    {
     "name": "stdout",
     "output_type": "stream",
     "text": [
      "Wonderful\n"
     ]
    }
   ],
   "source": [
    "# The function match() checks for a match at the start of the\n",
    "# string and return a boolean.\n",
    "\n",
    "# The function search() checks for a match anywhere in the string \n",
    "# and returns a boolean. \n",
    "\n",
    "# Let's see if it's a good day\n",
    "text = 'This is a good day'\n",
    "\n",
    "if re.search('good', text):\n",
    "    print('Wonderful')\n",
    "else:\n",
    "    print(\"Alas :_(\")"
   ]
  },
  {
   "cell_type": "code",
   "execution_count": 3,
   "metadata": {},
   "outputs": [
    {
     "data": {
      "text/plain": [
       "['',\n",
       " ' works diligently. ',\n",
       " ' gets good grades. Our student ',\n",
       " ' is succesful.']"
      ]
     },
     "execution_count": 3,
     "metadata": {},
     "output_type": "execute_result"
    }
   ],
   "source": [
    "# We can also use regex to segment strings based on some pattern,\n",
    "# a process called tokenizing\n",
    "\n",
    "# The findall() and split() functions are used to return chunks of \n",
    "# text. \n",
    "text = \"Julia works diligently. Julia gets good grades. Our student Julia is succesful.\"\n",
    "\n",
    "# Let's split all instaces of Julia\n",
    "re.split(\"Julia\", text)"
   ]
  },
  {
   "cell_type": "code",
   "execution_count": 4,
   "metadata": {},
   "outputs": [
    {
     "name": "stdout",
     "output_type": "stream",
     "text": [
      "['Julia', 'Julia', 'Julia']\n"
     ]
    },
    {
     "data": {
      "text/plain": [
       "3"
      ]
     },
     "execution_count": 4,
     "metadata": {},
     "output_type": "execute_result"
    }
   ],
   "source": [
    "# split() returned an empty string, followed by several statements\n",
    "# about Julia, all as elements of a list.append\n",
    "# To find out how many times was Julia mentioned we nee to use findall()\n",
    "print(re.findall('Julia', text))\n",
    "len(re.findall('Julia', text)) "
   ]
  },
  {
   "cell_type": "code",
   "execution_count": 5,
   "metadata": {},
   "outputs": [],
   "source": [
    "# In short, search() looks for a pattern and returns a boolean\n",
    "# split() uses a pattern to create a list of substrings \n",
    "# findall() looks for a pattern and extract all occurences "
   ]
  },
  {
   "cell_type": "code",
   "execution_count": 6,
   "metadata": {},
   "outputs": [
    {
     "data": {
      "text/plain": [
       "<re.Match object; span=(0, 5), match='Julia'>"
      ]
     },
     "execution_count": 6,
     "metadata": {},
     "output_type": "execute_result"
    }
   ],
   "source": [
    "# For more complex patterns we'll need to make use of Markup\n",
    "# language. \n",
    "\n",
    "# Anchors specify the start and/or end of the wanted string;\n",
    "# The symbol ^ means start, $ means end. \n",
    "# Putting ^ before a string means it must start with said string\n",
    "# Putting $ after a string means it must end with said string\n",
    "text = \"Julia works diligently. Julia gets good grades. Our student Julia is succesful.\"\n",
    "\n",
    "# Does it begin with Julia?\n",
    "re.search('^Julia', text)"
   ]
  },
  {
   "cell_type": "code",
   "execution_count": 7,
   "metadata": {},
   "outputs": [],
   "source": [
    "# The returned object, called a re.Match object, always has a\n",
    "# boolean value of True, and so it can be used in if-statements"
   ]
  },
  {
   "cell_type": "markdown",
   "metadata": {},
   "source": [
    "### Patterns and character classes"
   ]
  },
  {
   "cell_type": "code",
   "execution_count": 8,
   "metadata": {},
   "outputs": [
    {
     "name": "stdout",
     "output_type": "stream",
     "text": [
      "['B', 'B', 'B']\n",
      "['A', 'A', 'A', 'A', 'A', 'B', 'B', 'B', 'A', 'A']\n"
     ]
    }
   ],
   "source": [
    "# Let's create a string of grades given across a semester\n",
    "grades = 'ACAAAABCBCBAA'\n",
    "\n",
    "# To get the numbers of B's obtained we just need to put B as pattern\n",
    "print(re.findall('B',grades))\n",
    "\n",
    "# Getting the number of both A's and B's it's a bit more tricky, we \n",
    "# put the desired pattern inside []'s \n",
    "print(re.findall('[AB]',grades))"
   ]
  },
  {
   "cell_type": "code",
   "execution_count": 9,
   "metadata": {},
   "outputs": [
    {
     "data": {
      "text/plain": [
       "['AC', 'AB']"
      ]
     },
     "execution_count": 9,
     "metadata": {},
     "output_type": "execute_result"
    }
   ],
   "source": [
    "# This is called a set operator\n",
    "# You can also include a range of alphanumerically ordered characters\n",
    "# e.g [a-z] the range of all lowercase letters\n",
    "\n",
    "# Let's extract all cases received first an A and then a B or a C\n",
    "re.findall('[A][B-c]', grades)"
   ]
  },
  {
   "cell_type": "code",
   "execution_count": 10,
   "metadata": {},
   "outputs": [
    {
     "name": "stdout",
     "output_type": "stream",
     "text": [
      "['AC', 'AB']\n",
      "['A', 'C', 'A', 'A', 'A', 'A', 'B', 'C', 'B', 'C', 'B', 'A', 'A']\n"
     ]
    }
   ],
   "source": [
    "# So [AB] denots a single pattern set of possible characters A OR B (inclusive OR),\n",
    "# while [A][B-C] denotes two pattern sets of possible charaters, A AND B OR C\n",
    "\n",
    "# For the manual version we use the pipe operator | for OR\n",
    "print(re.findall('AB|AC', grades))\n",
    "\n",
    "# We can use this for complex pattern like (A OR B) OR (B OR C)\n",
    "print(re.findall('[AB]|[BC]', grades))"
   ]
  },
  {
   "cell_type": "code",
   "execution_count": 11,
   "metadata": {},
   "outputs": [
    {
     "data": {
      "text/plain": [
       "['C', 'B', 'C', 'B', 'C', 'B']"
      ]
     },
     "execution_count": 11,
     "metadata": {},
     "output_type": "execute_result"
    }
   ],
   "source": [
    "# We can also use [] as a negation\n",
    "\n",
    "# Get all grades different from A\n",
    "re.findall('[^A]',grades)"
   ]
  },
  {
   "cell_type": "code",
   "execution_count": 12,
   "metadata": {},
   "outputs": [
    {
     "data": {
      "text/plain": [
       "[]"
      ]
     },
     "execution_count": 12,
     "metadata": {},
     "output_type": "execute_result"
    }
   ],
   "source": [
    "# As shown, inside [] symbols like ^ aquire a different \n",
    "# meaning.\n",
    "\n",
    "# Since [^A] means return not-A's, ^[^A] means return a string\n",
    "# at the beginning of the string which is not an A. Since [] works\n",
    "# by matching individual characters in an OR method [^A] --> ^A OR empty.\n",
    "# Since the string starts with A, it returns an empty list. \n",
    "re.findall('^[^A]', grades)"
   ]
  },
  {
   "cell_type": "markdown",
   "metadata": {},
   "source": [
    "### Quantifiers"
   ]
  },
  {
   "cell_type": "code",
   "execution_count": 13,
   "metadata": {},
   "outputs": [
    {
     "data": {
      "text/plain": [
       "['AAAA', 'AA']"
      ]
     },
     "execution_count": 13,
     "metadata": {},
     "output_type": "execute_result"
    }
   ],
   "source": [
    "# A quantifier is used to set the numbers of times a pattern is\n",
    "# to be matched.\n",
    "# The simplest quantifier is e{m,n}, where \"e\" is the pattern,\n",
    "# m the minimum # of times it should be matched and n the maximum\n",
    "\n",
    "# How many streak of A's does Julia have?\n",
    "re.findall('A{2,10}',grades)"
   ]
  },
  {
   "cell_type": "code",
   "execution_count": 14,
   "metadata": {},
   "outputs": [
    {
     "data": {
      "text/plain": [
       "['AA', 'AA', 'AA']"
      ]
     },
     "execution_count": 14,
     "metadata": {},
     "output_type": "execute_result"
    }
   ],
   "source": [
    "# We can also do it by setting a single match and repeating it\n",
    "\n",
    "#Find how many streaks of two A are there\n",
    "re.findall('A{1,1}A{1,1}',grades) "
   ]
  },
  {
   "cell_type": "code",
   "execution_count": 15,
   "metadata": {},
   "outputs": [
    {
     "data": {
      "text/plain": [
       "[]"
      ]
     },
     "execution_count": 15,
     "metadata": {},
     "output_type": "execute_result"
    }
   ],
   "source": [
    "# Regex does not allow deviaton from the e{m,n} pattern, so\n",
    "# adding a space like so e{m, n} will return an empty list\n",
    "re.findall('A{2, 10}', grades)"
   ]
  },
  {
   "cell_type": "code",
   "execution_count": 16,
   "metadata": {},
   "outputs": [
    {
     "name": "stdout",
     "output_type": "stream",
     "text": [
      "['AA', 'AA', 'AA']\n",
      "['AA', 'AA', 'AA']\n"
     ]
    }
   ],
   "source": [
    "# e{m,m} is equal to e, i.e to not using a quantifiers, \n",
    "# and so e{m,m}e{m,m} = ee\n",
    "print(re.findall('AA',grades))\n",
    "\n",
    "# Similarly, e{m} = e{m,m}\n",
    "print(re.findall('A{1}A{1}',grades))"
   ]
  },
  {
   "cell_type": "code",
   "execution_count": 17,
   "metadata": {},
   "outputs": [
    {
     "data": {
      "text/plain": [
       "['AAAABC']"
      ]
     },
     "execution_count": 17,
     "metadata": {},
     "output_type": "execute_result"
    }
   ],
   "source": [
    "# We could use this to e.g find a decreasing trend in grades\n",
    "re.findall('A{1,10}B{1,10}C{1,10}', grades)"
   ]
  },
  {
   "cell_type": "code",
   "execution_count": 18,
   "metadata": {},
   "outputs": [
    {
     "data": {
      "text/plain": [
       "'Overview[edit]\\nFERPA gives parents access to their child\\'s education records, an opportunity to seek to have the records amended, and some control over the disclosure of information from the records. With several exceptions, schools must have a student\\'s consent prior to the disclosure of education records after that student is 18 years old. The law applies only to educational agencies and institutions that receive funds under a program administered by the U.S. Department of Education.\\n\\nOther regulations under this act, effective starting January 3, 2012, allow for greater disclosures of personal and directory student identifying information and regulate student IDs and e-mail addresses.[2] For example, schools may provide external companies with a student\\'s personally identifiable information without the student\\'s consent.[2]\\n\\nExamples of situations affected by FERPA include school employees divulging information to anyone other than the student about the student\\'s grades or behavior, and school work posted on a bulletin board with a grade. Generally, schools must have written permission from the parent or eligible student in order to release any information from a student\\'s education record.\\n\\nThis privacy policy also governs how state agencies transmit testing data to federal agencies, such as the Education Data Exchange Network.\\n\\nThis U.S. federal law also gave students 18 years of age or older, or students of any age if enrolled in any post-secondary educational institution, the right of privacy regarding grades, enrollment, and even billing information unless the school has specific permission from the student to share that specific type of information.\\n\\nFERPA also permits a school to disclose personally identifiable information from education records of an \"eligible student\" (a student age 18 or older or enrolled in a postsecondary institution at any age) to his or her parents if the student is a \"dependent student\" as that term is defined in Section 152 of the Internal Revenue Code. Generally, if either parent has claimed the student as a dependent on the parent\\'s most recent income tax statement, the school may non-consensually disclose the student\\'s education records to both parents.[3]\\n\\nThe law allowed students who apply to an educational institution such as graduate school permission to view recommendations submitted by others as part of the application. However, on standard application forms, students are given the option to waive this right.\\n\\nFERPA specifically excludes employees of an educational institution if they are not students.\\n\\nThe act is also referred to as the Buckley Amendment, for one of its proponents, Senator James L. Buckley of New York.\\n\\nAccess to public records[edit]\\nThe citing of FERPA to conceal public records that are not \"educational\" in nature has been widely criticized, including by the act\\'s primary Senate sponsor.[4] For example, in the Owasso Independent School District v. Falvo case, an important part of the debate was determining the relationship between peer-grading and \"education records\" as defined in FERPA. In the Court of Appeals, it was ruled that students placing grades on the work of other students made such work into an \"education record.\" Thus, peer-grading was determined as a violation of FERPA privacy policies because students had access to other students\\' academic performance without full consent.[5] However, when the case went to the Supreme Court, it was officially ruled that peer-grading was not a violation of FERPA. This is because a grade written on a student\\'s work does not become an \"education record\" until the teacher writes the final grade into a grade book.[6]\\n\\nStudent medical records[edit]\\nLegal experts have debated the issue of whether student medical records (for example records of therapy sessions with a therapist at an on-campus counseling center) might be released to the school administration under certain triggering events, such as when a student sued his college or university.[7][8]\\n\\nUsually, student medical treatment records will remain under the protection of FERPA, not the Health Insurance Portability and Accountability Act (HIPAA). This is due to the \"FERPA Exception\" written within HIPAA.[9]'"
      ]
     },
     "execution_count": 18,
     "metadata": {},
     "output_type": "execute_result"
    }
   ],
   "source": [
    "# This is a bit of a hack, since the maximum value selected\n",
    "# is arbitrary.\n",
    "# We can use symbols as shorthands for {,m,n}: * to match 0 or more times\n",
    "# ? to match 0 to 1 times, and + to match +1 times   \n",
    "\n",
    "# Let's see an example using data scraped from wikipedia\n",
    "with open('datasets/ferpa.txt', 'r') as file:\n",
    "    wiki = file.read()\n",
    "\n",
    "wiki"
   ]
  },
  {
   "cell_type": "code",
   "execution_count": 19,
   "metadata": {},
   "outputs": [
    {
     "data": {
      "text/plain": [
       "['Overview[edit]', 'records[edit]', 'records[edit]']"
      ]
     },
     "execution_count": 19,
     "metadata": {},
     "output_type": "execute_result"
    }
   ],
   "source": [
    "# Notice that all the headers have the word [edit], followed\n",
    "# by a new line character. \n",
    "\n",
    "# With this info, we can extract all the headers\n",
    "\n",
    "# Extract up to 100 characters, lowercase a-z or uppercase A-Z,\n",
    "# as long as they're followed by [edit]\n",
    "re.findall('[a-zA-Z]{1,100}\\[edit\\]', wiki)"
   ]
  },
  {
   "cell_type": "code",
   "execution_count": 20,
   "metadata": {},
   "outputs": [
    {
     "name": "stdout",
     "output_type": "stream",
     "text": [
      "['Overview[edit]', 'records[edit]', 'records[edit]']\n",
      "['Overview[edit]', 'records[edit]', 'records[edit]']\n",
      "['Overview[edit]', 'Access to public records[edit]', 'Student medical records[edit]']\n"
     ]
    }
   ],
   "source": [
    "# This only partially worked: it only got the last word\n",
    "# of the header and the pattern is kinda clunky.\n",
    "# We can use metacharacters,that indicate certain patterns\n",
    "# of letters and/or digit, to improve it\n",
    "# e.g \\s matches any whitespace character\n",
    "\n",
    "# We can use \\w to match any letter including digits and numbers\n",
    "# and condense the pattern\n",
    "print(re.findall('[\\w]{1,100}\\[edit\\]', wiki))\n",
    "\n",
    "# We can condense it even more by using * to match any number of times\n",
    "print(re.findall('[\\w]*\\[edit\\]', wiki))\n",
    "\n",
    "# To now improve it, let's allow for spaces after words\n",
    "print(re.findall('[\\w ]*\\[edit\\]', wiki))"
   ]
  },
  {
   "cell_type": "code",
   "execution_count": 21,
   "metadata": {},
   "outputs": [
    {
     "name": "stdout",
     "output_type": "stream",
     "text": [
      "Overview\n",
      "Access to public records\n",
      "Student medical records\n"
     ]
    }
   ],
   "source": [
    "# To create a list of titles minus [edit], we iterating \n",
    "# through this regex and create another one using split()\n",
    "# to return a list of values minus the input.\n",
    "for title in re.findall('[\\w ]*\\[edit\\]', wiki):\n",
    "    print(re.split('[\\[]', title)[0])"
   ]
  },
  {
   "cell_type": "markdown",
   "metadata": {},
   "source": [
    "### Groups"
   ]
  },
  {
   "cell_type": "code",
   "execution_count": 23,
   "metadata": {},
   "outputs": [
    {
     "data": {
      "text/plain": [
       "[('Overview', '[edit]'),\n",
       " ('Access to public records', '[edit]'),\n",
       " ('Student medical records', '[edit]')]"
      ]
     },
     "execution_count": 23,
     "metadata": {},
     "output_type": "execute_result"
    }
   ],
   "source": [
    "# So far we've centered around single patterns, but it's possible\n",
    "# to group several patterns together and call them when needed\n",
    "# We do this by using ()\n",
    "re.findall('([\\w ]*)(\\[edit\\])', wiki)"
   ]
  },
  {
   "cell_type": "code",
   "execution_count": 26,
   "metadata": {},
   "outputs": [
    {
     "name": "stdout",
     "output_type": "stream",
     "text": [
      "('Overview', '[edit]')\n",
      "('Access to public records', '[edit]')\n",
      "('Student medical records', '[edit]')\n",
      "\n",
      "Overview\n",
      "Access to public records\n",
      "Student medical records\n"
     ]
    }
   ],
   "source": [
    "# Notice that the re library breaks the results by groups; these\n",
    "# groups and their associated matches can be referred to by number\n",
    "\n",
    "# But how do we get a list of said match objects? So far we can only\n",
    "# return strings with findall() and match individual objects with \n",
    "# search() and match()\n",
    "\n",
    "# To get a tuple of match objects we use the function finditer()\n",
    "for item in re.finditer('([\\w ]*)(\\[edit\\])', wiki):\n",
    "    print(item.groups())\n",
    "\n",
    "print()\n",
    "\n",
    "# We can get a specific group using group(number), where number(0)\n",
    "# is the whole match and the rest represent the different portions\n",
    "for item in re.finditer('([\\w ]*)(\\[edit\\])', wiki):\n",
    "    print(item.group(1))"
   ]
  },
  {
   "cell_type": "code",
   "execution_count": 47,
   "metadata": {},
   "outputs": [
    {
     "name": "stdout",
     "output_type": "stream",
     "text": [
      "Overview\n",
      "Access to public records\n",
      "Student medical records\n",
      "\n",
      "{'header': 'Overview', 'edit_link': '[edit]'}\n",
      "{'header': 'Access to public records', 'edit_link': '[edit]'}\n",
      "{'header': 'Student medical records', 'edit_link': '[edit]'}\n"
     ]
    }
   ],
   "source": [
    "# We can also label the groups and refer to them with it\n",
    "# To do this we write (?P<name>), which creates a dictionary\n",
    "# () indicate it's a group, ?P means it's an extension to\n",
    "# basic regex, and <name> is the dictionary key\n",
    "for item in re.finditer('(?P<header>[\\w ]*)(?P<edit_link>\\[edit\\])', wiki):\n",
    "    print(item.group('header'))\n",
    "\n",
    "print()\n",
    "\n",
    "# We can get the result as a dictionary by using groupdict()\n",
    "for item in re.finditer('(?P<header>[\\w ]*)(?P<edit_link>\\[edit\\])', wiki):\n",
    "    print(item.groupdict())"
   ]
  },
  {
   "cell_type": "code",
   "execution_count": 48,
   "metadata": {},
   "outputs": [],
   "source": [
    "# Other common metacharacters like \\w are:\n",
    "# a . for any single character which not a newline\n",
    "# a \\d for any digit\n",
    "# a \\s for any whitespace characters, e.g spaces and tabs"
   ]
  },
  {
   "cell_type": "markdown",
   "metadata": {},
   "source": [
    "### Look-ahead and Look-behind"
   ]
  },
  {
   "cell_type": "code",
   "execution_count": 44,
   "metadata": {},
   "outputs": [
    {
     "name": "stdout",
     "output_type": "stream",
     "text": [
      "<re.Match object; span=(0, 8), match='Overview'>\n",
      "<re.Match object; span=(2715, 2739), match='Access to public records'>\n",
      "<re.Match object; span=(3692, 3715), match='Student medical records'>\n"
     ]
    }
   ],
   "source": [
    "# These matching methods lets us define a pattern to\n",
    "# isolate text by indicating the text right before or after it\n",
    "\n",
    "# In the header example, we wanted the text before [edit] but didn't\n",
    "# care about [header] itself, and so we filtered it away\n",
    "# A more direct method would be to put it in a group and then use look-ahead \n",
    "# We do this by using the ?= syntax\n",
    "for item in re.finditer('(?P<headers>[\\w ]+)(?=\\[edit\\])', wiki):\n",
    "    print(item)"
   ]
  },
  {
   "cell_type": "markdown",
   "metadata": {},
   "source": [
    "### Example: Wikipedia data"
   ]
  },
  {
   "cell_type": "code",
   "execution_count": 62,
   "metadata": {},
   "outputs": [
    {
     "data": {
      "text/plain": [
       "'Buddhist universities and colleges in the United States\\nFrom Wikipedia, the free encyclopedia\\nJump to navigationJump to search\\n\\nThis article needs additional citations for verification. Please help improve this article by adding citations to reliable sources. Unsourced material may be challenged and removed.\\nFind sources: \"Buddhist universities and colleges in the United States\" – news · newspapers · books · scholar · JSTOR (December 2009) (Learn how and when to remove this template message)\\nThere are several Buddhist universities in the United States. Some of these have existed for decades and are accredited. Others are relatively new and are either in the process of being accredited or else have no formal accreditation. The list includes:\\n\\nDhammakaya Open University – located in Azusa, California, part of the Thai Wat Phra Dhammakaya[1]\\nDharmakirti College – located in Tucson, Arizona Now called Awam Tibetan Buddhist Institute (http://awaminstitute.org/)\\nDharma Realm Buddhist University – located in Ukiah, California\\nEwam Buddhist Institute – located in Arlee, Montana\\nNaropa University is located in Boulder, Colorado (Accredited by the Higher Learning Commission)\\nInstitute of Buddhist Studies – located in Berkeley, California\\nMaitripa College – located in Portland, Oregon\\nSoka University of America – located in Aliso Viejo, California\\nUniversity of the West – located in Rosemead, California\\nWon Institute of Graduate Studies – located in Glenside, Pennsylvania\\nReferences[edit]\\n^ Banchanon, Phongphiphat (3 February 2015). รู้จัก \"เครือข่ายธรรมกาย\" [Getting to know the Dhammakaya network]. Forbes Thailand (in Thai). Retrieved 11 November 2016.\\nExternal links[edit]\\nList of Buddhist Universities and Colleges in the world\\n'"
      ]
     },
     "execution_count": 62,
     "metadata": {},
     "output_type": "execute_result"
    }
   ],
   "source": [
    "# Let's explore the data about US buddhist-based universities\n",
    "with open('datasets/buddhist.txt','r', encoding='utf8') as file:\n",
    "    wiki = file.read()\n",
    "wiki"
   ]
  },
  {
   "cell_type": "code",
   "execution_count": 66,
   "metadata": {},
   "outputs": [
    {
     "name": "stdout",
     "output_type": "stream",
     "text": [
      "Dhammakaya Open University – located in Azusa, California\n",
      "Dharmakirti College – located in Tucson, Arizona\n",
      "Dharma Realm Buddhist University – located in Ukiah, California\n",
      "Ewam Buddhist Institute – located in Arlee, Montana\n",
      "Institute of Buddhist Studies – located in Berkeley, California\n",
      "Maitripa College – located in Portland, Oregon\n",
      "University of the West – located in Rosemead, California\n",
      "Won Institute of Graduate Studies – located in Glenside, Pennsylvania\n"
     ]
    }
   ],
   "source": [
    "# Notice the pattern after the mention of a university\n",
    "# An '-' followed by 'located in [city], [state]'\n",
    "\n",
    "# To increse the readability of our regex and use multi-line\n",
    "# regexes we can make use of the so-called verbose mode\n",
    "# This is done by explicitly indicating all whitespace characters\n",
    "# either by prepending them with \\ or by using the metacharacter \\s\n",
    "# This makes writing regex similar to coding, and you can even comment with #\n",
    "pattern =\"\"\"\n",
    "(?P<title>.*)        #the university title\n",
    "(–\\ located\\ in\\ )   #an indicator of the location\n",
    "(?P<city>\\w*)        #city the university is in\n",
    "(,\\ )                #separator for the state\n",
    "(?P<state>\\w*)       #the state the city is located in\"\"\"\n",
    "\n",
    "# When calling finditer() we just need to pass the re.VERBOSE flag\n",
    "# as the last parameter\n",
    "for item in re.finditer(pattern, wiki, re.VERBOSE):\n",
    "    print(item.group())"
   ]
  },
  {
   "cell_type": "markdown",
   "metadata": {},
   "source": [
    "### New York Times and hashtags"
   ]
  },
  {
   "cell_type": "code",
   "execution_count": 85,
   "metadata": {},
   "outputs": [],
   "source": [
    "# Dataset of NYT tweets about health realted news from \n",
    "# UC Irvine machine learning repository\n",
    "with open('datasets/nytimeshealth.txt', 'r', encoding='utf8') as file:\n",
    "    nytimes = file.read()\n",
    "    "
   ]
  },
  {
   "cell_type": "code",
   "execution_count": 96,
   "metadata": {},
   "outputs": [
    {
     "name": "stdout",
     "output_type": "stream",
     "text": [
      "#askwell\n",
      "#pregnancy\n",
      "#Colorado\n",
      "#VegetarianThanksgiving\n",
      "#FallPrevention\n",
      "#Ebola\n",
      "#Ebola\n",
      "#ebola\n",
      "#Ebola\n",
      "#Ebola\n",
      "#EbolaHysteria\n",
      "#AskNYT\n",
      "#Ebola\n",
      "#Ebola\n",
      "#Liberia\n",
      "#Excalibur\n",
      "#ebola\n",
      "#Ebola\n",
      "#dallas\n",
      "#nobelprize2014\n",
      "#ebola\n",
      "#ebola\n",
      "#monrovia\n",
      "#ebola\n",
      "#nobelprize2014\n",
      "#ebola\n",
      "#nobelprize2014\n",
      "#Medicine\n",
      "#Ebola\n",
      "#Monrovia\n",
      "#Ebola\n",
      "#smell\n",
      "#Ebola\n",
      "#Ebola\n",
      "#Ebola\n",
      "#Monrovia\n",
      "#Ebola\n",
      "#ebola\n",
      "#monrovia\n",
      "#liberia\n",
      "#benzos\n",
      "#ClimateChange\n",
      "#Whole\n",
      "#Wheat\n",
      "#Focaccia\n",
      "#Tomatoes\n",
      "#Olives\n",
      "#Recipes\n",
      "#Health\n",
      "#Ebola\n",
      "#Monrovia\n",
      "#Liberia\n",
      "#Ebola\n",
      "#Ebola\n",
      "#Liberia\n",
      "#Ebola\n",
      "#blood\n",
      "#Ebola\n",
      "#organtrafficking\n",
      "#EbolaOutbreak\n",
      "#SierraLeone\n",
      "#Freetown\n",
      "#SierraLeone\n",
      "#ebolaoutbreak\n",
      "#kenema\n",
      "#ebola\n",
      "#Ebola\n",
      "#ebola\n",
      "#ebola\n",
      "#Ebola\n",
      "#ASMR\n",
      "#AIDS2014\n",
      "#AIDS\n",
      "#MH17\n",
      "#benzos\n",
      "\n",
      "There are 75 tweets\n"
     ]
    }
   ],
   "source": [
    "# Let's find the number of hashtags in this data\n",
    "# Hashtags begin with # and continues until a blankspace\n",
    "pattern = '(#[\\w\\d]*)(?=\\s)'\n",
    "\n",
    "for item in re.finditer(pattern, nytimes):\n",
    "    print(item.group())\n",
    "\n",
    "print()\n",
    "\n",
    "print(\"There are\",len(re.findall(pattern, nytimes)),\"tweets\")"
   ]
  },
  {
   "cell_type": "code",
   "execution_count": null,
   "metadata": {},
   "outputs": [],
   "source": []
  }
 ],
 "metadata": {
  "interpreter": {
   "hash": "6defd577cd85e3649e86c46a537635b7104b081260a238509c81cac8b534171b"
  },
  "kernelspec": {
   "display_name": "Python 3.9.7 ('base')",
   "language": "python",
   "name": "python3"
  },
  "language_info": {
   "codemirror_mode": {
    "name": "ipython",
    "version": 3
   },
   "file_extension": ".py",
   "mimetype": "text/x-python",
   "name": "python",
   "nbconvert_exporter": "python",
   "pygments_lexer": "ipython3",
   "version": "3.9.7"
  },
  "orig_nbformat": 4
 },
 "nbformat": 4,
 "nbformat_minor": 2
}
